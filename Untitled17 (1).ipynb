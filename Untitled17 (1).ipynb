{
  "nbformat": 4,
  "nbformat_minor": 0,
  "metadata": {
    "colab": {
      "provenance": []
    },
    "kernelspec": {
      "name": "python3",
      "display_name": "Python 3"
    },
    "language_info": {
      "name": "python"
    }
  },
  "cells": [
    {
      "cell_type": "code",
      "execution_count": null,
      "metadata": {
        "id": "fX-BMsRALo5i"
      },
      "outputs": [],
      "source": [
        "import pandas as pd\n",
        "\n",
        "# Step 1: Load your Excel file\n",
        "df = pd.read_excel(\"xab.xlsx\")  # Change to your actual file\n",
        "\n",
        "# Step 1.5: Format the date\n",
        "df['Date'] = pd.to_datetime(df['Date'], format='%b %d, %Y').dt.strftime('%Y-%m-%d')\n",
        "\n",
        "# Step 2: Rename columns to match the desired format\n",
        "df.rename(columns={\n",
        "    'Price': 'Close',\n",
        "    'Vol.': 'Volume'\n",
        "}, inplace=True)\n",
        "\n",
        "# Step 3: Add 'Adj Close' column (same as 'Close')\n",
        "df['Adj Close'] = df['Close']\n",
        "\n",
        "# Step 4: Reorder columns\n",
        "df = df[['Date', 'Open', 'High', 'Low', 'Close', 'Adj Close', 'Volume']]\n",
        "\n",
        "# Step 5: Parse volume values\n",
        "def parse_volume(val):\n",
        "    if isinstance(val, str):\n",
        "        val = val.replace(\",\", \"\")  # Remove commas if any\n",
        "        if 'M' in val:\n",
        "            return int(float(val.replace('M', '')) * 1_000_000)\n",
        "        elif 'K' in val:\n",
        "            return int(float(val.replace('K', '')) * 1_000)\n",
        "    return val\n",
        "\n",
        "df['Volume'] = df['Volume'].apply(parse_volume)\n",
        "\n",
        "# Step 6: Save the cleaned data\n",
        "df.to_excel(\"converted_data.xlsx\", index=False)\n",
        "# Or use df.to_csv(\"converted_data.csv\", index=False)\n",
        "\n",
        "print(df.head())\n"
      ]
    }
  ]
}